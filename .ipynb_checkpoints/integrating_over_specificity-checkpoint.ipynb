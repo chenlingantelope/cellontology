{
 "cells": [
  {
   "cell_type": "code",
   "execution_count": 4,
   "metadata": {},
   "outputs": [],
   "source": [
    "from scipy.stats import binom, beta, betabinom\n",
    "import matplotlib.pyplot as plt\n",
    "import matplotlib\n",
    "%matplotlib inline \n",
    "import numpy as np"
   ]
  },
  {
   "cell_type": "code",
   "execution_count": 25,
   "metadata": {},
   "outputs": [
    {
     "data": {
      "text/plain": [
       "array([0, 1])"
      ]
     },
     "execution_count": 25,
     "metadata": {},
     "output_type": "execute_result"
    }
   ],
   "source": [
    "temp=np.arange(3)\n",
    "temp[:len(temp)-1]"
   ]
  },
  {
   "cell_type": "code",
   "execution_count": 24,
   "metadata": {},
   "outputs": [
    {
     "data": {
      "text/plain": [
       "array([0, 1, 2])"
      ]
     },
     "execution_count": 24,
     "metadata": {},
     "output_type": "execute_result"
    }
   ],
   "source": [
    "temp"
   ]
  },
  {
   "cell_type": "code",
   "execution_count": 33,
   "metadata": {},
   "outputs": [],
   "source": [
    "def Model1(x, n,k,N, a=1, b=1, k_low=0, k_high=1000):\n",
    "    temp = np.linspace(beta.ppf(0.01, a, b),\n",
    "                 beta.ppf(0.99, a, b), 100)\n",
    "    _, ax1 = plt.subplots()\n",
    "    ax1.plot(temp, beta.pdf(temp, a, b),\n",
    "            'r-', lw=5, alpha=0.6, label='prior')\n",
    "    ax1.plot(temp, beta.pdf(temp, a+x, b+n-x),\n",
    "        'b-', lw=5, alpha=0.6, label='posterior')\n",
    "    ax1.legend()\n",
    "    k_range = np.arange(k_low, k_high)\n",
    "    y = betabinom.cdf(k_range, N, a+x, b+n-x, loc=0)\n",
    "    _, ax2 = plt.subplots()\n",
    "    ax2.plot(k_range, y)\n",
    "    ax2.vlines(k,0,1)\n",
    "    p1=y[1:]-y[:len(y)-1]\n",
    "    e_fp = np.sum(k_range[:len(k_range)-1]*p1)\n",
    "    high_fp = k_range[np.abs(y-0.975)==np.min(np.abs(y-0.975))]\n",
    "    low_fp = k_range[np.abs(y-0.025)==np.min(np.abs(y-0.025))]\n",
    "    return y[k_range==k], ax1, ax2, e_fp, high_fp, low_fp"
   ]
  },
  {
   "cell_type": "code",
   "execution_count": 34,
   "metadata": {},
   "outputs": [
    {
     "data": {
      "image/png": "[encoded data removed]",
      "text/plain": [
       "<Figure size 432x288 with 1 Axes>"
      ]
     },
     "metadata": {
      "needs_background": "light"
     },
     "output_type": "display_data"
    },
    {
     "data": {
      "image/png": "[encoded data removed]",
      "text/plain": [
       "<Figure size 432x288 with 1 Axes>"
      ]
     },
     "metadata": {
      "needs_background": "light"
     },
     "output_type": "display_data"
    }
   ],
   "source": [
    "p, ax1, ax2, e_fp, high_fp, low_fp = Model1(x=0, n=30, k=50, N=3300)"
   ]
  },
  {
   "cell_type": "code",
   "execution_count": 36,
   "metadata": {},
   "outputs": [
    {
     "name": "stdout",
     "output_type": "stream",
     "text": [
      "The probability that the number of false positive is smaller than 50 is 0.38 \n",
      " The expected number of false positives is 102.12 \n",
      " The 95 confidence interval of the total number of false positives is 2 - 371\n"
     ]
    }
   ],
   "source": [
    "print('The probability that the number of false positive is smaller than 50 is %.2f \\n' %p, \n",
    "     'The expected number of false positives is %.2f \\n'%e_fp , \n",
    "     'The 95 confidence interval of the total number of false positives is %i - %i' %(low_fp, high_fp))"
   ]
  },
  {
   "cell_type": "markdown",
   "metadata": {},
   "source": [
    "# Model 2"
   ]
  },
  {
   "cell_type": "markdown",
   "metadata": {},
   "source": [
    "### List of variables: \n",
    "* *f* infection rate\n",
    "* *p1* false positive rate\n",
    "* *p2* false negative rate\n",
    "* *k* number of tested positive\n",
    "* *k1* number of false positives\n",
    "* *k2* number of true positives\n",
    "* *k = k1 + k2*\n",
    "* *n1* number of negative samples \n",
    "* *n2* number of positive samples \n",
    "\n",
    "k1~betabinom(n1, a+x, b+N1-x)\n",
    "\n",
    "k2~betabinom(n2, a+y, b+N2-y)\n",
    "\n",
    "### data from article\n",
    "Among 37samples of known PCR-positive COVID-19 patientswith positive IgG or IgM detected on a locally-developed ELISAtest,25 were kit-positive.Asample of30 pre-COVID samples from hip surgery patientswere also tested,and all30 were negative.The manufacturer’stest characteristicsrelied on samples fromclinically confirmed COVID-19 patientsaspositive gold standard and pre-COVID serafornegativegoldstandard.Among75samplesofclinicallyconfirmed COVID-19 patientswith positive IgG,75 were kit-positive,and among 85 samples with positive IgM, 78 were kit-positive.Among 371 pre-COVID samples,369werenegative."
   ]
  },
  {
   "cell_type": "code",
   "execution_count": 102,
   "metadata": {},
   "outputs": [],
   "source": [
    "def Model2(x, n1, y, n2, k=50, N=3300, a=1,b=1,stepsize=0.0001):\n",
    "    pf = []\n",
    "    nn = np.arange(0, N+1)\n",
    "    for f in np.arange(0,1,stepsize):\n",
    "        temp = []\n",
    "        for n in nn:\n",
    "            ll_binom = binom.logpmf(k=n, n=N, p=f)\n",
    "            ll_k1 = betabinom.logpmf(k=np.arange(0, k+1), n=(N-n), a=a+x, b=b+n1-x)\n",
    "            ll_k2 = betabinom.logpmf(k=k-np.arange(0, k+1), n=n, a=a+y, b=b+n2-y)\n",
    "            temp.append(np.sum(np.exp(ll_binom+ll_k1+ll_k2)))\n",
    "        pf.append(np.sum(temp))\n",
    "    return(pf)"
   ]
  },
  {
   "cell_type": "code",
   "execution_count": 93,
   "metadata": {},
   "outputs": [],
   "source": [
    "N = 3300\n",
    "n1 = 105\n",
    "x = 3\n",
    "n2 = 85\n",
    "y = 78\n",
    "k=50\n",
    "a=1\n",
    "b=1\n"
   ]
  },
  {
   "cell_type": "markdown",
   "metadata": {},
   "source": [
    "# modele with manufacturer data"
   ]
  },
  {
   "cell_type": "code",
   "execution_count": null,
   "metadata": {},
   "outputs": [],
   "source": [
    "pf1 = Model2(x=2, n1=371, y=78, n2=85)"
   ]
  },
  {
   "cell_type": "markdown",
   "metadata": {},
   "source": [
    "# model with the validation data"
   ]
  },
  {
   "cell_type": "code",
   "execution_count": null,
   "metadata": {},
   "outputs": [],
   "source": [
    "pf2 = Model2(x=3, n1=105, y=78, n2=85)"
   ]
  },
  {
   "cell_type": "code",
   "execution_count": 99,
   "metadata": {},
   "outputs": [
    {
     "data": {
      "text/plain": [
       "[<matplotlib.lines.Line2D at 0x11df74550>]"
      ]
     },
     "execution_count": 99,
     "metadata": {},
     "output_type": "execute_result"
    },
    {
     "data": {
      "image/png": "[encoded data removed]",
      "text/plain": [
       "<Figure size 432x288 with 1 Axes>"
      ]
     },
     "metadata": {
      "needs_background": "light"
     },
     "output_type": "display_data"
    }
   ],
   "source": [
    "plt.plot(np.arange(0,1,0.0001)[:1000], pf[:1000])"
   ]
  },
  {
   "cell_type": "markdown",
   "metadata": {},
   "source": [
    "# Model with paper validatio ndata"
   ]
  },
  {
   "cell_type": "code",
   "execution_count": null,
   "metadata": {},
   "outputs": [],
   "source": [
    "pf3 = Model2(x=0, n1=30, y=78, n2=85)"
   ]
  }
 ],
 "metadata": {
  "kernelspec": {
   "display_name": "Python 3",
   "language": "python",
   "name": "python3"
  },
  "language_info": {
   "codemirror_mode": {
    "name": "ipython",
    "version": 3
   },
   "file_extension": ".py",
   "mimetype": "text/x-python",
   "name": "python",
   "nbconvert_exporter": "python",
   "pygments_lexer": "ipython3",
   "version": "3.7.6"
  }
 },
 "nbformat": 4,
 "nbformat_minor": 2
}
